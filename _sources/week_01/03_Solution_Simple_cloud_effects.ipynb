{
 "cells": [
  {
   "cell_type": "markdown",
   "metadata": {},
   "source": [
    "# Solution: effect of clouds on the planetary energy balance"
   ]
  },
  {
   "cell_type": "markdown",
   "metadata": {},
   "source": [
    "In this exercise you are going to compute the effect of clouds on the planetary energy balance, with the help of a simple 1-column model of the atmosphere."
   ]
  },
  {
   "cell_type": "code",
   "execution_count": 1,
   "metadata": {},
   "outputs": [],
   "source": [
    "# These are the modules we need\n",
    "import numpy as np\n",
    "import matplotlib.pyplot as plt"
   ]
  },
  {
   "cell_type": "markdown",
   "metadata": {},
   "source": [
    "We define some constants:"
   ]
  },
  {
   "cell_type": "code",
   "execution_count": 2,
   "metadata": {},
   "outputs": [],
   "source": [
    "s_0 = 1367  # Solar constant (W m-2)\n",
    "sigma = 5.670e-8  # Stefan–Boltzmann constant\n",
    "t_s = 288  # Average temperature of the Earth's surface (K)\n",
    "gamma = -6.5  # Lapse-rate in the atmoshpere (K km-1)\n",
    "surface_albedo = 0.12  # Albedo of the surface of the Earth"
   ]
  },
  {
   "cell_type": "markdown",
   "metadata": {},
   "source": [
    "## Effect of low clouds on the EB "
   ]
  },
  {
   "cell_type": "markdown",
   "metadata": {},
   "source": [
    "To isolate the effect of clouds, we assume a very simple representation of the atmosphere as a simple column, free of other greenhouse gases and other clouds. The Temperature of the cloud would then be: \n",
    "\n",
    "$T_{Cloud} = T_{Surface} + \\gamma \\, z $, \n",
    "\n",
    "with $z$ the cloud altitude (km) and $\\gamma$ the lapse-rate."
   ]
  },
  {
   "cell_type": "markdown",
   "metadata": {},
   "source": [
    "**Q: compute the temperature (K) of a cloud at z = 2km, assuming a constant lapse rate and an average surface temperature of 288K:**"
   ]
  },
  {
   "cell_type": "code",
   "execution_count": 3,
   "metadata": {},
   "outputs": [
    {
     "data": {
      "text/plain": [
       "'T_C = 275.0 K'"
      ]
     },
     "execution_count": 3,
     "metadata": {},
     "output_type": "execute_result"
    }
   ],
   "source": [
    "t_c = t_s + 2 * gamma\n",
    "'T_C = {} K'.format(t_c)"
   ]
  },
  {
   "cell_type": "markdown",
   "metadata": {},
   "source": [
    "Now assume that the cloud absorbs all the IR radiation emited by the surface (a reasonable approximation), while emmitting IR directly back to space according to its own temperature. So the total energy change of the climate system in the longwave (LW) spectrum would be:\n",
    "\n",
    "$\\Delta E_{LW} = \\sigma T_{Surf}^4 - \\sigma T_{Cloud}^4$"
   ]
  },
  {
   "cell_type": "markdown",
   "metadata": {},
   "source": [
    "**Q: compute the effect of a low cloud on the LW energy balance of the climate system. Is the cloud a LW energy loss or an energy gain for the system?**"
   ]
  },
  {
   "cell_type": "code",
   "execution_count": 4,
   "metadata": {},
   "outputs": [
    {
     "data": {
      "text/plain": [
       "'Delta E_LW = 65.8 W m^-2'"
      ]
     },
     "execution_count": 4,
     "metadata": {},
     "output_type": "execute_result"
    }
   ],
   "source": [
    "e_lw = sigma * t_s**4 - sigma * t_c**4\n",
    "'Delta E_LW = {0:.1f} W m^-2'.format(e_lw)"
   ]
  },
  {
   "cell_type": "markdown",
   "metadata": {},
   "source": [
    "Now consider the shortwave effects of the cloud if it has an albedo of 0.5. The net difference for the climate system is simply the increased loss in solar energy because of an increased reflection:\n",
    "\n",
    "$\\Delta E_{SW} = - S_0 / 4 \\cdot (\\alpha _{Cloud} - \\alpha _{Earth} ) $"
   ]
  },
  {
   "cell_type": "markdown",
   "metadata": {},
   "source": [
    "**Q: compute the effect of a low cloud on the shortwave (SW) energy balance of the climate system. Is the cloud a SW energy loss or an energy gain for the system?**"
   ]
  },
  {
   "cell_type": "code",
   "execution_count": 5,
   "metadata": {},
   "outputs": [
    {
     "data": {
      "text/plain": [
       "'Delta E_SW = -129.9 W m^-2'"
      ]
     },
     "execution_count": 5,
     "metadata": {},
     "output_type": "execute_result"
    }
   ],
   "source": [
    "e_sw = - s_0 / 4 * (0.5 - surface_albedo)\n",
    "'Delta E_SW = {0:.1f} W m^-2'.format(e_sw)"
   ]
  },
  {
   "cell_type": "markdown",
   "metadata": {},
   "source": [
    "Finally, the net energy difference for the climate system is:\n",
    "    \n",
    "$\\Delta E_{TOT} = \\Delta E_{SW} + \\Delta E_{LW}$"
   ]
  },
  {
   "cell_type": "markdown",
   "metadata": {},
   "source": [
    "**Q: compute the effect of a low cloud on the total (SW + LW) energy balance of the climate system. Is the low cloud a total energy loss or an energy gain for the system?**"
   ]
  },
  {
   "cell_type": "code",
   "execution_count": 6,
   "metadata": {},
   "outputs": [
    {
     "data": {
      "text/plain": [
       "'Delta E_TOT = -64.1 W m^-2'"
      ]
     },
     "execution_count": 6,
     "metadata": {},
     "output_type": "execute_result"
    }
   ],
   "source": [
    "e_tot = e_sw + e_lw\n",
    "'Delta E_TOT = {0:.1f} W m^-2'.format(e_tot)"
   ]
  },
  {
   "cell_type": "markdown",
   "metadata": {},
   "source": [
    "<span style=\"color:red\"> $\\rightarrow$ **Low-level** clouds are **cooling** the climate system</span>"
   ]
  },
  {
   "cell_type": "markdown",
   "metadata": {},
   "source": [
    "## Effect of high clouds on the EB "
   ]
  },
  {
   "cell_type": "markdown",
   "metadata": {},
   "source": [
    "**Q: repeat the calculations above to compute the effect of a high cloud (z = 10km, albedo unchanged) on the total energy balance of the climate system. Is the high cloud a total energy loss or an energy gain for the system?**"
   ]
  },
  {
   "cell_type": "code",
   "execution_count": 7,
   "metadata": {},
   "outputs": [
    {
     "name": "stdout",
     "output_type": "stream",
     "text": [
      "T_C = 223.0 K\n",
      "Delta E_LW = 249.9 W m^-2\n",
      "Delta E_SW = -129.9 W m^-2\n",
      "Delta E_TOT = 120.0 W m^-2\n"
     ]
    }
   ],
   "source": [
    "t_c = t_s + 10 * gamma\n",
    "print('T_C = {} K'.format(t_c))\n",
    "e_lw = sigma * t_s**4 - sigma * t_c**4\n",
    "print('Delta E_LW = {0:.1f} W m^-2'.format(e_lw))\n",
    "e_sw = - s_0 / 4 * (0.5 - surface_albedo)\n",
    "print('Delta E_SW = {0:.1f} W m^-2'.format(e_sw))\n",
    "e_tot = e_sw + e_lw\n",
    "print('Delta E_TOT = {0:.1f} W m^-2'.format(e_tot))"
   ]
  },
  {
   "cell_type": "markdown",
   "metadata": {},
   "source": [
    "<span style=\"color:red\"> $\\rightarrow$ **High-level** clouds are **warming** the climate system </span>"
   ]
  },
  {
   "cell_type": "markdown",
   "metadata": {},
   "source": [
    "## And now automate things a little bit"
   ]
  },
  {
   "cell_type": "markdown",
   "metadata": {},
   "source": [
    "**Q: repeat the calculations above for the whole range of altitudes between 2 and 10 km (see the previous lesson for how to do this). Plot the curve.**"
   ]
  },
  {
   "cell_type": "code",
   "execution_count": 8,
   "metadata": {},
   "outputs": [],
   "source": [
    "def cloud_effect(z, albedo=0.5):\n",
    "    \"\"\"Compute the effect of clouds as a function of the altitude z and the cloud albedo (default 0.5)\"\"\"\n",
    "    t_c = t_s + z * gamma\n",
    "    e_lw = sigma * t_s**4 - sigma * t_c**4\n",
    "    e_sw = - s_0 / 4 * (albedo - surface_albedo)\n",
    "    e_tot = e_sw + e_lw\n",
    "    return e_tot"
   ]
  },
  {
   "cell_type": "markdown",
   "metadata": {},
   "source": [
    "**Q: repeat the calculations above, for three values of the cloud albedo: 0.3, 0.5, 0.7. Plot the three curves on the same plot and add a legend to the plots (see the \"Getting started\" notebook for guidance).**"
   ]
  },
  {
   "cell_type": "code",
   "execution_count": 9,
   "metadata": {},
   "outputs": [
    {
     "data": {
      "image/png": "[encoded data removed]",
      "text/plain": [
       "<Figure size 432x288 with 1 Axes>"
      ]
     },
     "metadata": {
      "needs_background": "light"
     },
     "output_type": "display_data"
    }
   ],
   "source": [
    "z = np.linspace(2, 10, 100)  # altitude range\n",
    "plt.plot(z, z*0, color='k', linestyle='--')\n",
    "plt.plot(z, cloud_effect(z, albedo=0.3), label='Albedo=0.3')\n",
    "plt.plot(z, cloud_effect(z, albedo=0.5), label='Albedo=0.5')\n",
    "plt.plot(z, cloud_effect(z, albedo=0.7), label='Albedo=0.7')\n",
    "plt.xlabel('Cloud altitude (km)')\n",
    "plt.ylabel('$\\Delta E$ (W m$^{-2}$)')\n",
    "plt.legend(loc='best');"
   ]
  },
  {
   "cell_type": "markdown",
   "metadata": {},
   "source": [
    "**Q: discuss the features of the plot, and the conditions necessary for a cloud to be an energy gain or an energy loss for the climate system. Now search for typical values of cloud albedos depending on their type, and come back to your plot for comparison.**"
   ]
  },
  {
   "cell_type": "markdown",
   "metadata": {},
   "source": [
    "If you complicate things a bit by noticing that high clouds have a low albedo and low clouds a high albedo while thick clouds have a high albedo but also a high cloud top you can imagine that the system becomes extremely sensitive.\n",
    "\n",
    "**The processes governing cloud albedo are extremely complex. The uncertainty about changes in the clouds frequency, altitude, and albedo are one of the highest uncertainty in the climate models.**\n",
    "\n",
    "More info: http://www.skepticalscience.com/clouds-negative-feedback-basic.htm (basic and intermediate)"
   ]
  }
 ],
 "metadata": {
  "hide_input": false,
  "kernelspec": {
   "display_name": "Python 3",
   "language": "python",
   "name": "python3"
  },
  "language_info": {
   "codemirror_mode": {
    "name": "ipython",
    "version": 3
   },
   "file_extension": ".py",
   "mimetype": "text/x-python",
   "name": "python",
   "nbconvert_exporter": "python",
   "pygments_lexer": "ipython3",
   "version": "3.8.5"
  },
  "latex_envs": {
   "LaTeX_envs_menu_present": true,
   "autoclose": false,
   "autocomplete": true,
   "bibliofile": "biblio.bib",
   "cite_by": "apalike",
   "current_citInitial": 1,
   "eqLabelWithNumbers": true,
   "eqNumInitial": 1,
   "hotkeys": {
    "equation": "Ctrl-E",
    "itemize": "Ctrl-I"
   },
   "labels_anchors": false,
   "latex_user_defs": false,
   "report_style_numbering": false,
   "user_envs_cfg": false
  },
  "nbTranslate": {
   "displayLangs": [
    "*"
   ],
   "hotkey": "alt-t",
   "langInMainMenu": true,
   "sourceLang": "en",
   "targetLang": "fr",
   "useGoogleTranslate": true
  },
  "toc": {
   "base_numbering": 1,
   "nav_menu": {},
   "number_sections": false,
   "sideBar": true,
   "skip_h1_title": true,
   "title_cell": "Table of Contents",
   "title_sidebar": "Contents",
   "toc_cell": false,
   "toc_position": {},
   "toc_section_display": true,
   "toc_window_display": false
  }
 },
 "nbformat": 4,
 "nbformat_minor": 4
}
