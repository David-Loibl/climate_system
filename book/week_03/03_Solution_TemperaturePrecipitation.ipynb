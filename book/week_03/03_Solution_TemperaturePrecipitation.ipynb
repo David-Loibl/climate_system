{
 "cells": [
  {
   "cell_type": "markdown",
   "metadata": {},
   "source": [
    "# Solution: temperature and precipitation data"
   ]
  },
  {
   "cell_type": "code",
   "execution_count": null,
   "metadata": {},
   "outputs": [],
   "source": [
    "# Import the tools we are going to need today:\n",
    "import matplotlib.pyplot as plt  # plotting library\n",
    "import numpy as np  # numerical library\n",
    "import xarray as xr  # netCDF library\n",
    "import cartopy  # Map projections libary\n",
    "import cartopy.crs as ccrs  # Projections list\n",
    "# Some defaults:\n",
    "plt.rcParams['figure.figsize'] = (12, 5)  # Default plot size"
   ]
  },
  {
   "cell_type": "markdown",
   "metadata": {},
   "source": [
    "## Temperature"
   ]
  },
  {
   "cell_type": "markdown",
   "metadata": {},
   "source": [
    "**Compute the mean temperature $\\overline{T}$. Plot it.**"
   ]
  },
  {
   "cell_type": "code",
   "execution_count": null,
   "metadata": {},
   "outputs": [],
   "source": [
    "# Solution\n",
    "ds = xr.open_dataset('../data/ERA5_LowRes_Monthly_t2m.nc')\n",
    "t2_tavg = ds.t2m.mean(dim='time') - 273.15\n",
    "ax = plt.axes(projection=ccrs.Robinson())\n",
    "t2_tavg.plot(ax=ax, transform=ccrs.PlateCarree(), cbar_kwargs={'label':'$\\overline{T}$ [K]'}) \n",
    "ax.coastlines(); ax.gridlines(); "
   ]
  },
  {
   "cell_type": "markdown",
   "metadata": {},
   "source": [
    "**Compute the monthly average temperature for each month $\\overline{T_M}$ (annual cycle). I expect a variable of dimensions (month: 12, latitude: 241, longitude: 480).** Hint: remember the ``.groupby()`` command we learned in the lesson. **Now plot the average monthly temperature range, i.e. $\\overline{T_M}max$ - $\\overline{T_M}min$ on a map**.\n",
    "\n",
    "**Where is the range of monthly temperature highest? Note the latitudinal differences. Is the variability higher over land or over oceans? Why?**"
   ]
  },
  {
   "cell_type": "code",
   "execution_count": null,
   "metadata": {},
   "outputs": [],
   "source": [
    "# Solution\n",
    "# Annual cycle\n",
    "t2_cycle = ds.t2m.groupby('time.month').mean() - 273.15\n",
    "# Plot\n",
    "ax = plt.axes(projection=ccrs.Robinson())\n",
    "(t2_cycle.max(dim='month') - t2_cycle.min(dim='month')).plot(ax=ax, transform=ccrs.PlateCarree(), cbar_kwargs={'label':'$\\overline{T}$ [K]'}) \n",
    "ax.coastlines(); ax.gridlines(); "
   ]
  },
  {
   "cell_type": "markdown",
   "metadata": {},
   "source": [
    "**Compute the zonal mean temperature $\\overline{\\left[ T \\right]}$. Plot it. At what latitudes is the zonal average temperature equal to 0°C? Describe the differences between North and South. Can you explain them easily? Add $\\left[\\overline{T_{January}}\\right]$ and $\\left[\\overline{T_{July}}\\right]$ to the plot.**"
   ]
  },
  {
   "cell_type": "code",
   "execution_count": null,
   "metadata": {},
   "outputs": [],
   "source": [
    "# Solution\n",
    "t2_tavg.mean(dim='longitude').plot(label='Annual', linewidth=3, c='k');\n",
    "t2_cycle.sel(month=1).mean(dim='longitude').plot(label='January', c='C0');\n",
    "t2_cycle.sel(month=7).mean(dim='longitude').plot(label='July', c='C3');\n",
    "plt.legend();\n",
    "plt.title(r'$\\overline{\\left[ T \\right]}$');\n",
    "plt.hlines(0, -90, 90, linestyle='--', color='k');\n",
    "plt.xlim(-90, 90);\n",
    "plt.ylabel('[°C]');"
   ]
  },
  {
   "cell_type": "markdown",
   "metadata": {},
   "source": [
    "Similarly to the decomposition in time, geophysical fields can also be decomposed zonally:\n",
    "\n",
    "$A = \\left[ A \\right] + A^{*}$\n",
    "\n",
    "Where $\\left[ A \\right]$ is the zonal average and $A^{*}$ the departure from the zonal average.\n",
    "\n",
    "**Verify that for any field A:**\n",
    "1. $\\overline{A^{*}} = \\overline{A} - \\left[ \\overline{A} \\right]$  \n",
    "2. $A = \\left[ \\overline{A} \\right] + \\left[ A' \\right] + \\overline{A^{*}} + A'^{*}$ "
   ]
  },
  {
   "cell_type": "markdown",
   "metadata": {},
   "source": [
    "**Compute $\\overline{T^{*}}$ (use eq. 1 above), and plot it on a map. Discuss**"
   ]
  },
  {
   "cell_type": "code",
   "execution_count": null,
   "metadata": {},
   "outputs": [],
   "source": [
    "# Solution\n",
    "t_avg_dep = t2_tavg - t2_tavg.mean(dim='longitude')\n",
    "ax = plt.axes(projection=ccrs.Robinson())\n",
    "t_avg_dep.plot(ax=ax, transform=ccrs.PlateCarree(), cbar_kwargs={'label':'[K]'}) \n",
    "ax.set_title('$\\overline{T^{*}}$')\n",
    "ax.coastlines(); ax.gridlines(); "
   ]
  },
  {
   "cell_type": "markdown",
   "metadata": {},
   "source": [
    "**Compute the zonal mean temperature over land $\\overline{\\left[ T_{Land} \\right]}$ and over oceans $\\overline{\\left[ T_{Oceans} \\right]}$ and plot them both on the same plot. Discuss.**"
   ]
  },
  {
   "cell_type": "code",
   "execution_count": null,
   "metadata": {},
   "outputs": [],
   "source": [
    "# Solution\n",
    "dsi = xr.open_dataset('../data/ERA5_LowRes_Invariant.nc')\n",
    "t2_avg_land = t2_tavg.where(dsi.lsm == 1).mean(dim='longitude')\n",
    "t2_avg_ocean = t2_tavg.where(dsi.lsm == 0).mean(dim='longitude')\n",
    "t2_avg_land.plot(label=r'$\\overline{\\left[ T_{Land} \\right]}$')\n",
    "t2_avg_ocean.plot(label=r' $\\overline{\\left[ T_{Oceans} \\right]}$')\n",
    "plt.legend(loc='best');\n",
    "plt.hlines(0, -90, 90, linestyle='--', color='k');\n",
    "plt.xlim(-90, 90);\n",
    "plt.ylabel('[°C]');"
   ]
  },
  {
   "cell_type": "markdown",
   "metadata": {},
   "source": [
    "## Precipitation"
   ]
  },
  {
   "cell_type": "markdown",
   "metadata": {},
   "source": [
    "Open the precipitation file and explore it. The units of monthly precipitation are wrongly labeled (unfortunately). They should read: **m per day**."
   ]
  },
  {
   "cell_type": "code",
   "execution_count": null,
   "metadata": {},
   "outputs": [],
   "source": [
    "ds = xr.open_dataset('../data/ERA5_LowRes_Monthly_tp.nc')\n",
    "ds.tp"
   ]
  },
  {
   "cell_type": "markdown",
   "metadata": {},
   "source": [
    "**Compute the average total annual precipitation (average precipitation over a year, in mm yr$^{-1}$) and store it in a variable called \"annual_prcp\". Plot it.**"
   ]
  },
  {
   "cell_type": "code",
   "execution_count": null,
   "metadata": {},
   "outputs": [],
   "source": [
    "# Solution\n",
    "annual_prcp = ds.tp.mean(dim='time') * 365.25 * 1000\n",
    "ax = plt.axes(projection=ccrs.Robinson())\n",
    "annual_prcp.plot(ax=ax, transform=ccrs.PlateCarree(), cbar_kwargs={'label':'mm yr$^{-1}$'}) \n",
    "ax.set_title('$\\overline{P}$')\n",
    "ax.coastlines(); ax.gridlines(); "
   ]
  },
  {
   "cell_type": "markdown",
   "metadata": {},
   "source": [
    "**Draw a new plot of \"annual_prcp\", this time with a new colormap ('YlGnBu') and with the following discrete levels specified: [50, 200, 500, 700, 1000, 1500, 2000, 3000, 5000]. Now have a look at the patterns again.**\n",
    "\n",
    "**Using your knowledge from the lecture which didn't take place yet ;-), try to answer questions such as:**\n",
    "- why are the oceans (mostly) dryer than land in the subtropics?\n",
    "- this was not covered in the lecture, but why is there only one large desert (in Africa) while other continents at the same latitute are rather wet?\n",
    "- why are the eastern subtropical oceans dryer than in their western part? Do all three oceans have similar patterns for precipitation?\n",
    "- where does it fall more than 3000 mm precipitation a year? Less than 50 mm precipitation a year?\n",
    "- Note that it could be easy to use the \".where()\" function to highlight these areas easily. Optional: can you come up with a plot showing them on the map?"
   ]
  },
  {
   "cell_type": "code",
   "execution_count": null,
   "metadata": {},
   "outputs": [],
   "source": [
    "# Solution\n",
    "ax = plt.axes(projection=ccrs.Robinson())\n",
    "annual_prcp.plot(ax=ax, transform=ccrs.PlateCarree(), cbar_kwargs={'label':'mm yr$^{-1}$'}, \n",
    "                 levels=[50, 200, 500, 700, 1000, 1500, 2000, 3000, 5000], cmap='YlGnBu') \n",
    "ax.set_title('$\\overline{P}$')\n",
    "ax.coastlines(); ax.gridlines(); "
   ]
  },
  {
   "cell_type": "code",
   "execution_count": null,
   "metadata": {},
   "outputs": [],
   "source": [
    "# Solution\n",
    "# Mark some areas\n",
    "ax = plt.axes(projection=ccrs.Robinson())\n",
    "annual_prcp.plot(ax=ax, transform=ccrs.PlateCarree(), cbar_kwargs={'label':'mm yr$^{-1}$'}, \n",
    "                 levels=[50, 200, 500, 700, 1000, 1500, 2000, 3000, 5000], cmap='YlGnBu')\n",
    "\n",
    "# Mask 1\n",
    "mask = annual_prcp.where(annual_prcp > 3000, 0)\n",
    "mask.plot.contour(ax=ax, transform=ccrs.PlateCarree(), levels=[0.5], colors=['purple'])\n",
    "# Mask 2\n",
    "mask = annual_prcp.where(annual_prcp < 50, 0)\n",
    "mask.plot.contour(ax=ax, transform=ccrs.PlateCarree(), levels=[0.5], colors=['red'])\n",
    "\n",
    "ax.set_title('$\\overline{P}$')\n",
    "ax.coastlines(); ax.gridlines(); "
   ]
  },
  {
   "cell_type": "markdown",
   "metadata": {},
   "source": [
    "**Plot the average precipitation in January on a map. Do the same with precipitation in July, and choose the same levels for both maps in order to compare them. Discuss.**"
   ]
  },
  {
   "cell_type": "code",
   "execution_count": null,
   "metadata": {},
   "outputs": [],
   "source": [
    "# Solution\n",
    "prcp_cycle = ds.tp.groupby('time.month').mean() * 1000\n",
    "\n",
    "pm = prcp_cycle.sel(month=1)\n",
    "ax = plt.axes(projection=ccrs.Robinson())\n",
    "pm.plot(ax=ax, transform=ccrs.PlateCarree(), cbar_kwargs={'label':'mm d$^{-1}$'}, \n",
    "                 levels=[0.5, 1, 2, 3, 4, 5, 7, 10, 15, 20, 40], cmap='YlGnBu') \n",
    "ax.set_title('$\\overline{P_{Jan}}$')\n",
    "ax.coastlines(); ax.gridlines(); \n",
    "\n",
    "plt.figure()\n",
    "pm = prcp_cycle.sel(month=7)\n",
    "ax = plt.axes(projection=ccrs.Robinson())\n",
    "pm.plot(ax=ax, transform=ccrs.PlateCarree(), cbar_kwargs={'label':'mm d$^{-1}$'}, \n",
    "                 levels=[0.5, 1, 2, 3, 4, 5, 7, 10, 15, 20, 40], cmap='YlGnBu') \n",
    "ax.set_title('$\\overline{P_{Jul}}$')\n",
    "ax.coastlines(); ax.gridlines(); "
   ]
  },
  {
   "cell_type": "code",
   "execution_count": null,
   "metadata": {},
   "outputs": [],
   "source": []
  }
 ],
 "metadata": {
  "hide_input": false,
  "kernelspec": {
   "display_name": "Python 3",
   "language": "python",
   "name": "python3"
  },
  "language_info": {
   "codemirror_mode": {
    "name": "ipython",
    "version": 3
   },
   "file_extension": ".py",
   "mimetype": "text/x-python",
   "name": "python",
   "nbconvert_exporter": "python",
   "pygments_lexer": "ipython3",
   "version": "3.8.5"
  },
  "latex_envs": {
   "LaTeX_envs_menu_present": true,
   "autoclose": false,
   "autocomplete": true,
   "bibliofile": "biblio.bib",
   "cite_by": "apalike",
   "current_citInitial": 1,
   "eqLabelWithNumbers": true,
   "eqNumInitial": 1,
   "hotkeys": {
    "equation": "Ctrl-E",
    "itemize": "Ctrl-I"
   },
   "labels_anchors": false,
   "latex_user_defs": false,
   "report_style_numbering": false,
   "user_envs_cfg": false
  },
  "nbTranslate": {
   "displayLangs": [
    "*"
   ],
   "hotkey": "alt-t",
   "langInMainMenu": true,
   "sourceLang": "en",
   "targetLang": "fr",
   "useGoogleTranslate": true
  },
  "toc": {
   "base_numbering": 1,
   "nav_menu": {},
   "number_sections": false,
   "sideBar": true,
   "skip_h1_title": true,
   "title_cell": "Table of Contents",
   "title_sidebar": "Contents",
   "toc_cell": false,
   "toc_position": {},
   "toc_section_display": true,
   "toc_window_display": false
  }
 },
 "nbformat": 4,
 "nbformat_minor": 4
}
